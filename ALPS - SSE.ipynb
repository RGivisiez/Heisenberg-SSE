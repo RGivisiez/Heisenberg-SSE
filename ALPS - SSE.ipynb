{
 "cells": [
  {
   "cell_type": "code",
   "execution_count": 1,
   "metadata": {},
   "outputs": [],
   "source": [
    "import pyalps\n",
    "import numpy as np\n",
    "import matplotlib.pyplot as plt\n",
    "import pyalps.plot\n",
    "import pandas as pd"
   ]
  },
  {
   "cell_type": "code",
   "execution_count": 2,
   "metadata": {},
   "outputs": [
    {
     "data": {
      "text/plain": [
       "array([0.7  , 0.725, 0.75 , 0.775, 0.8  , 0.825, 0.85 , 0.875, 0.9  ,\n",
       "       0.925, 0.95 , 0.975, 1.   , 1.025, 1.05 , 1.075, 1.1  , 1.125,\n",
       "       1.15 , 1.175, 1.2  , 1.225, 1.25 , 1.275, 1.3  , 1.325, 1.35 ,\n",
       "       1.375, 1.4  ])"
      ]
     },
     "execution_count": 2,
     "metadata": {},
     "output_type": "execute_result"
    }
   ],
   "source": [
    "betas = 1. / np.linspace(0.7, 1.4, 29)\n",
    "1. / betas"
   ]
  },
  {
   "cell_type": "code",
   "execution_count": 3,
   "metadata": {},
   "outputs": [],
   "source": [
    "#prepare the input parameters\n",
    "parms = []\n",
    "for beta in betas:\n",
    "    parms.append(\n",
    "    {\n",
    "          'LATTICE'        : \"simple cubic lattice\", \n",
    "          'MODEL'          : \"spin\",\n",
    "          'local_S'        : 0.5,\n",
    "          'L'              : 10,\n",
    "          'J'              : 1 ,\n",
    "          'BETA'           : beta,\n",
    "          'THERMALIZATION' : 10000,\n",
    "          'SWEEPS'         : 10000,\n",
    "    }\n",
    ")\n"
   ]
  },
  {
   "cell_type": "code",
   "execution_count": 4,
   "metadata": {},
   "outputs": [
    {
     "name": "stdout",
     "output_type": "stream",
     "text": [
      "dirloop_sse 3D-SSE-Heisenberg.in.xml\n"
     ]
    }
   ],
   "source": [
    "input_file = pyalps.writeInputFiles('3D-SSE-Heisenberg', parms)\n",
    "res = pyalps.runApplication('dirloop_sse', input_file)"
   ]
  },
  {
   "cell_type": "code",
   "execution_count": 5,
   "metadata": {},
   "outputs": [],
   "source": [
    "data = pyalps.loadMeasurements(pyalps.getResultFiles(prefix='3D-SSE-Heisenberg'))"
   ]
  },
  {
   "cell_type": "markdown",
   "metadata": {},
   "source": [
    "- |Magnetization Density|\n",
    "- Staggered Magnetization Density^2\n",
    "- Magnetization^2\n",
    "- Susceptibility\n",
    "- n\n",
    "- n^2\n",
    "- Staggered Magnetization^4\n",
    "- Magnetization Density^4\n",
    "- Staggered Magnetization Density^4\n",
    "- Magnetization Density^2\n",
    "- Stiffness\n",
    "- n^3\n",
    "- Staggered Magnetization\n",
    "- Staggered Magnetization Density\n",
    "- Energy\n",
    "- Staggered Magnetization^2\n",
    "- Kinetic Energy Density\n",
    "- Kinetic Energy\n",
    "- Magnetization^4\n",
    "- |Magnetization|\n",
    "- Magnetization Density\n",
    "- Energy Density\n",
    "- Magnetization"
   ]
  },
  {
   "cell_type": "code",
   "execution_count": 8,
   "metadata": {},
   "outputs": [],
   "source": [
    "observables = ['Energy', 'n', 'n^2', 'Susceptibility', 'Staggered Magnetization']"
   ]
  },
  {
   "cell_type": "code",
   "execution_count": 9,
   "metadata": {},
   "outputs": [],
   "source": [
    "for obs in observables:\n",
    "    res = []\n",
    "    for aux in data:\n",
    "        for aux2 in aux:\n",
    "            if (aux2.props['observable'] == obs):\n",
    "                \n",
    "                split = str(aux2.y[0]).split('+/-')\n",
    "\n",
    "                val, err = split[0], split[1]\n",
    "\n",
    "                val = float(val) / aux2.props['L']**3\n",
    "                err =  float(err) / aux2.props['L']**3\n",
    "\n",
    "                beta = float(aux2.props['BETA'])\n",
    "                \n",
    "                res.append({'beta': beta, obs: val, obs + '_err': err})\n",
    "                \n",
    "    pd.DataFrame(res).sort_values('beta', ascending=False).to_csv('ALPS_' + obs + '.dat', index=False, sep=' ')"
   ]
  },
  {
   "cell_type": "code",
   "execution_count": null,
   "metadata": {},
   "outputs": [],
   "source": []
  }
 ],
 "metadata": {
  "kernelspec": {
   "display_name": "Python 2",
   "language": "python",
   "name": "python2"
  },
  "language_info": {
   "codemirror_mode": {
    "name": "ipython",
    "version": 2
   },
   "file_extension": ".py",
   "mimetype": "text/x-python",
   "name": "python",
   "nbconvert_exporter": "python",
   "pygments_lexer": "ipython2",
   "version": "2.7.15"
  }
 },
 "nbformat": 4,
 "nbformat_minor": 2
}
