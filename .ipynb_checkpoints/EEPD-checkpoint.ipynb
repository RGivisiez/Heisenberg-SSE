{
 "cells": [
  {
   "cell_type": "code",
   "execution_count": 1,
   "metadata": {},
   "outputs": [],
   "source": [
    "import pandas as pd\n",
    "import numpy as np\n",
    "import matplotlib.pyplot as plt"
   ]
  },
  {
   "cell_type": "code",
   "execution_count": 2,
   "metadata": {},
   "outputs": [],
   "source": [
    "plt.rcParams['figure.figsize'] = [7, 6]\n",
    "\n",
    "#if (save_fig): plt.rcParams['figure.figsize'] = [6, 5]\n",
    "\n",
    "plt.rcParams['figure.constrained_layout.use'] = True\n",
    "\n",
    "plt.rcParams['axes.titlesize'] = 20\n",
    "plt.rcParams['axes.labelsize'] = 20\n",
    "plt.rcParams['axes.linewidth'] = 3\n",
    "plt.rcParams['axes.labelpad'] = 15\n",
    "\n",
    "plt.rcParams['xtick.labelsize'] = 16\n",
    "plt.rcParams['xtick.major.size'] = 8\n",
    "plt.rcParams['xtick.major.width'] = 3\n",
    "\n",
    "plt.rcParams['ytick.labelsize'] = 16\n",
    "plt.rcParams['ytick.major.size'] = 8\n",
    "plt.rcParams['ytick.major.width'] = 3\n",
    "\n",
    "plt.rcParams['legend.fontsize'] = 14\n",
    "plt.rcParams['legend.markerscale'] = 1\n",
    "\n",
    "plt.rcParams['lines.markersize'] = 9\n",
    "plt.rcParams['lines.linewidth'] = 2"
   ]
  },
  {
   "cell_type": "code",
   "execution_count": 3,
   "metadata": {},
   "outputs": [],
   "source": [
    "def mpsolve(file, data):\n",
    "    \n",
    "    '''\n",
    "    file: Nome do arquivo onde vai ser salvo as raízes.\n",
    "    data: Coeficientes do polinômio.\n",
    "    '''\n",
    "    \n",
    "    !rm {file + '.pol'}\n",
    "    \n",
    "    f = open(file + '.pol', 'a')\n",
    "\n",
    "    f.write('Monomial;\\n')\n",
    "    f.write('Degree=' + str(data.shape[0] - 1)  + ';\\n')\n",
    "    f.write('FloatingPoint;\\n')\n",
    "    f.write('Precision=53;\\n')\n",
    "    f.write('Real;\\n')\n",
    "    \n",
    "    data.to_csv(f, header=False, index=False)\n",
    "    f.close()\n",
    "    \n",
    "    !mpsolve -j 8 -O b {file + '.pol'} > {file + '.dat'}"
   ]
  },
  {
   "cell_type": "code",
   "execution_count": 4,
   "metadata": {},
   "outputs": [],
   "source": [
    "temps = np.arange(0.7, 1.5, 0.1)\n",
    "temps = np.append(temps, 0.945)\n",
    "L = 16\n",
    "N = L**3\n",
    "Nb = 3 * L**3"
   ]
  },
  {
   "cell_type": "code",
   "execution_count": 5,
   "metadata": {},
   "outputs": [],
   "source": [
    "df = pd.DataFrame()\n",
    "\n",
    "for temp in temps:\n",
    "    \n",
    "    file = ('raw_{0}x{0}x{0}_T={1:6.4f}.dat').format(L, temp)\n",
    "    df = pd.concat([df, pd.read_csv(file, header=None, skiprows=1).T])\n",
    "    \n",
    "df['temp'] = temps\n",
    "df = df.reset_index(drop=True)"
   ]
  },
  {
   "cell_type": "code",
   "execution_count": 6,
   "metadata": {},
   "outputs": [],
   "source": [
    "columns = df.columns[::-1]"
   ]
  },
  {
   "cell_type": "code",
   "execution_count": 7,
   "metadata": {},
   "outputs": [],
   "source": [
    "df = df.T"
   ]
  },
  {
   "cell_type": "code",
   "execution_count": 8,
   "metadata": {},
   "outputs": [],
   "source": [
    "df.rename(columns={ i:temp  for i, temp in enumerate(temps)}, inplace=True)"
   ]
  },
  {
   "cell_type": "code",
   "execution_count": 9,
   "metadata": {},
   "outputs": [],
   "source": [
    "df.drop('temp', inplace=True)"
   ]
  },
  {
   "cell_type": "code",
   "execution_count": 12,
   "metadata": {},
   "outputs": [],
   "source": [
    "df = df.astype(np.int32)"
   ]
  },
  {
   "cell_type": "code",
   "execution_count": 63,
   "metadata": {},
   "outputs": [
    {
     "data": {
      "text/plain": [
       "0.945"
      ]
     },
     "execution_count": 63,
     "metadata": {},
     "output_type": "execute_result"
    }
   ],
   "source": [
    "temp = temps[-1]\n",
    "np.round(temp, 4)"
   ]
  },
  {
   "cell_type": "code",
   "execution_count": 64,
   "metadata": {},
   "outputs": [],
   "source": [
    "hist = []\n",
    "\n",
    "beta = 1. / temp\n",
    "\n",
    "nHs = np.sort(df[temp].unique())[::-1]\n",
    "\n",
    "const = 0.25 * Nb\n",
    "\n",
    "for nH in nHs:\n",
    "    \n",
    "    hist.append(df.loc[df[temp] == nH, temp].count())\n",
    "    \n",
    "energies = - ( (nHs - const * beta) / (beta) )\n",
    "\n",
    "min_energy = energies.min()\n",
    "energies = energies - min_energy"
   ]
  },
  {
   "cell_type": "code",
   "execution_count": 65,
   "metadata": {},
   "outputs": [],
   "source": [
    "degree = 80\n",
    "\n",
    "moment = np.zeros(degree)\n",
    "\n",
    "for k in range(degree):\n",
    "\n",
    "    for values, energ in zip(hist, energies):\n",
    "            moment[k] += values * (energ**k)"
   ]
  },
  {
   "cell_type": "code",
   "execution_count": null,
   "metadata": {},
   "outputs": [],
   "source": []
  },
  {
   "cell_type": "code",
   "execution_count": null,
   "metadata": {},
   "outputs": [],
   "source": []
  },
  {
   "cell_type": "code",
   "execution_count": 52,
   "metadata": {},
   "outputs": [
    {
     "data": {
      "text/plain": [
       "(3074517.1956457184, 3072066.0472136796)"
      ]
     },
     "execution_count": 52,
     "metadata": {},
     "output_type": "execute_result"
    }
   ],
   "source": [
    "const = 0.25 * Nb\n",
    "\n",
    "nH2 = ((df[temp] - beta * const) * (df[temp] - beta * const)).sum() / df.shape[0]\n",
    "\n",
    "nH1 = (df[temp]- const * beta).sum() / df.shape[0]\n",
    "\n",
    "moment[2] / df.shape[0],  (nH2 / (beta*beta)) - (nH1 / (beta*beta))"
   ]
  },
  {
   "cell_type": "code",
   "execution_count": 53,
   "metadata": {},
   "outputs": [
    {
     "data": {
      "text/plain": [
       "(-5414976706.403533, 5402070597.397438)"
      ]
     },
     "execution_count": 53,
     "metadata": {},
     "output_type": "execute_result"
    }
   ],
   "source": [
    "const = 0.25 * Nb\n",
    "\n",
    "a = df[temp] - beta * const\n",
    "\n",
    "nH3 = (a * a * a).sum() / df.shape[0]\n",
    "\n",
    "nH2 = ((df[temp] - beta * const) * (df[temp] - beta * const)).sum() / df.shape[0]\n",
    "\n",
    "nH1 = (df[temp]- const * beta).sum() / df.shape[0]\n",
    "\n",
    "moment[3] / df.shape[0],  (nH3 / (beta**3)) - 3 * (nH2 / (beta**3)) + 2 * (nH1 / (beta**3))"
   ]
  },
  {
   "cell_type": "code",
   "execution_count": null,
   "metadata": {},
   "outputs": [],
   "source": []
  },
  {
   "cell_type": "code",
   "execution_count": 54,
   "metadata": {},
   "outputs": [
    {
     "data": {
      "text/plain": [
       "(-1750.8203086000005, -1750.8203086000003)"
      ]
     },
     "execution_count": 54,
     "metadata": {},
     "output_type": "execute_result"
    }
   ],
   "source": [
    "# Se não desloca a energia, o valor abaixo é a energia média.\n",
    "nH1 = df[temp].sum() / df.shape[0]\n",
    "const = 0.25 * Nb\n",
    "nH1 = nH1 - const * beta\n",
    "\n",
    "moment[1] / df.shape[0], -nH1 / (beta)"
   ]
  },
  {
   "cell_type": "code",
   "execution_count": null,
   "metadata": {},
   "outputs": [],
   "source": []
  },
  {
   "cell_type": "code",
   "execution_count": null,
   "metadata": {},
   "outputs": [],
   "source": []
  },
  {
   "cell_type": "code",
   "execution_count": null,
   "metadata": {},
   "outputs": [],
   "source": []
  },
  {
   "cell_type": "code",
   "execution_count": 66,
   "metadata": {},
   "outputs": [],
   "source": [
    "from scipy.special import factorial\n",
    "\n",
    "moment = [moment[k] / factorial(k) for k in range(moment.shape[0])]"
   ]
  },
  {
   "cell_type": "code",
   "execution_count": 67,
   "metadata": {},
   "outputs": [
    {
     "data": {
      "text/plain": [
       "(1000000.0, 8.734240404908178e+116, 2.2250738585072014e-308)"
      ]
     },
     "execution_count": 67,
     "metadata": {},
     "output_type": "execute_result"
    }
   ],
   "source": [
    "import sys\n",
    "\n",
    "moment[0], moment[-1], sys.float_info.min"
   ]
  },
  {
   "cell_type": "code",
   "execution_count": 68,
   "metadata": {},
   "outputs": [],
   "source": [
    "mpsolve('SSE-classic', pd.DataFrame(moment))"
   ]
  },
  {
   "cell_type": "code",
   "execution_count": 69,
   "metadata": {},
   "outputs": [],
   "source": [
    "roots_sse = pd.read_csv('SSE-classic.dat', header=None, sep='\\s+', names=['re', 'im'])\n",
    "\n",
    "roots_sse['dist_to_0'] = np.sqrt((roots_sse['re'])**2 + roots_sse['im']**2)\n",
    "\n",
    "dominant_idx_sse = roots_sse.loc[(roots_sse['im'] > 0.0) & (roots_sse['re'] > 0.0) ,'dist_to_0'].idxmin()"
   ]
  },
  {
   "cell_type": "code",
   "execution_count": 70,
   "metadata": {},
   "outputs": [],
   "source": [
    "roots_sse[['new re', 'new im']] = roots_sse.apply(lambda x: np.exp(complex(x['re'], x['im'])), axis=1).apply(lambda x: pd.Series([x.real, x.imag]))"
   ]
  },
  {
   "cell_type": "code",
   "execution_count": 71,
   "metadata": {},
   "outputs": [],
   "source": [
    "#dominant_idx_sse = 57"
   ]
  },
  {
   "cell_type": "code",
   "execution_count": 73,
   "metadata": {},
   "outputs": [
    {
     "data": {
      "image/png": "[encoded data removed]",
      "text/plain": [
       "<Figure size 504x432 with 1 Axes>"
      ]
     },
     "metadata": {
      "needs_background": "light"
     },
     "output_type": "display_data"
    }
   ],
   "source": [
    "plt.scatter(roots_sse['re'], roots_sse['im'])\n",
    "plt.ylabel(r'$\\Im m\\{y\\}$')\n",
    "plt.xlabel(r'$\\Re e\\{y\\}$')\n",
    "\n",
    "plt.scatter(roots_sse.loc[dominant_idx_sse, 're'], roots_sse.loc[dominant_idx_sse, 'im'],\n",
    "            label='Dominant', color='red')\n",
    "\n",
    "plt.plot(np.zeros(10), np.linspace(-roots_sse['im'].max(), roots_sse['im'].max(), 10), 'k--')\n",
    "\n",
    "plt.show()"
   ]
  },
  {
   "cell_type": "code",
   "execution_count": 302,
   "metadata": {},
   "outputs": [
    {
     "data": {
      "text/plain": [
       "(0.7004272123413362, 0.7)"
      ]
     },
     "execution_count": 302,
     "metadata": {},
     "output_type": "execute_result"
    }
   ],
   "source": [
    "1. / (-roots_sse.loc[dominant_idx_sse, 're'] + beta), 1. / beta\n",
    "#1 / ( - np.log(roots_sse.loc[dominant_idx_sse, 'new re']) / (-1/beta) + beta), 1. / beta"
   ]
  },
  {
   "cell_type": "code",
   "execution_count": 303,
   "metadata": {},
   "outputs": [
    {
     "data": {
      "image/png": "[encoded data removed]",
      "text/plain": [
       "<Figure size 504x432 with 1 Axes>"
      ]
     },
     "metadata": {
      "needs_background": "light"
     },
     "output_type": "display_data"
    }
   ],
   "source": [
    "plt.scatter(roots_sse['new re'], roots_sse['new im'])\n",
    "plt.ylabel(r'$\\Im m\\{x\\}$')\n",
    "plt.xlabel(r'$\\Re e\\{x\\}$')\n",
    "\n",
    "plt.scatter(roots_sse.loc[dominant_idx_sse, 'new re'], roots_sse.loc[dominant_idx_sse, 'new im'],\n",
    "            label='Dominant', color='red')\n",
    "\n",
    "plt.plot(np.ones(10), np.linspace(-roots_sse['im'].max(), roots_sse['im'].max(), 10), 'k--')\n",
    "\n",
    "plt.show()"
   ]
  },
  {
   "cell_type": "code",
   "execution_count": 25,
   "metadata": {},
   "outputs": [
    {
     "data": {
      "image/png": "[encoded data removed]",
      "text/plain": [
       "<Figure size 504x432 with 1 Axes>"
      ]
     },
     "metadata": {
      "needs_background": "light"
     },
     "output_type": "display_data"
    }
   ],
   "source": [
    "plt.plot(energies, hist)\n",
    "plt.show()"
   ]
  },
  {
   "cell_type": "code",
   "execution_count": null,
   "metadata": {},
   "outputs": [],
   "source": []
  },
  {
   "cell_type": "code",
   "execution_count": null,
   "metadata": {},
   "outputs": [],
   "source": []
  },
  {
   "cell_type": "code",
   "execution_count": null,
   "metadata": {},
   "outputs": [],
   "source": []
  }
 ],
 "metadata": {
  "kernelspec": {
   "display_name": "Python 3",
   "language": "python",
   "name": "python3"
  },
  "language_info": {
   "codemirror_mode": {
    "name": "ipython",
    "version": 3
   },
   "file_extension": ".py",
   "mimetype": "text/x-python",
   "name": "python",
   "nbconvert_exporter": "python",
   "pygments_lexer": "ipython3",
   "version": "3.7.6"
  }
 },
 "nbformat": 4,
 "nbformat_minor": 4
}
